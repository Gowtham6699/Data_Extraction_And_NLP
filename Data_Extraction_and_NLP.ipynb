{
 "cells": [
  {
   "cell_type": "code",
   "execution_count": 1,
   "metadata": {
    "colab": {
     "base_uri": "https://localhost:8080/"
    },
    "id": "MWUJdNwrzAms",
    "outputId": "336216f6-b907-4e15-a54a-6301fa2de4c9"
   },
   "outputs": [
    {
     "name": "stdout",
     "output_type": "stream",
     "text": [
      "Requirement already satisfied: nltk in /usr/local/lib/python3.10/dist-packages (3.8.1)\n",
      "Requirement already satisfied: textblob in /usr/local/lib/python3.10/dist-packages (0.17.1)\n",
      "Requirement already satisfied: click in /usr/local/lib/python3.10/dist-packages (from nltk) (8.1.7)\n",
      "Requirement already satisfied: joblib in /usr/local/lib/python3.10/dist-packages (from nltk) (1.4.2)\n",
      "Requirement already satisfied: regex>=2021.8.3 in /usr/local/lib/python3.10/dist-packages (from nltk) (2024.5.15)\n",
      "Requirement already satisfied: tqdm in /usr/local/lib/python3.10/dist-packages (from nltk) (4.66.4)\n",
      "[nltk_data] Downloading package brown to /root/nltk_data...\n",
      "[nltk_data]   Unzipping corpora/brown.zip.\n",
      "[nltk_data] Downloading package punkt to /root/nltk_data...\n",
      "[nltk_data]   Unzipping tokenizers/punkt.zip.\n",
      "[nltk_data] Downloading package wordnet to /root/nltk_data...\n",
      "[nltk_data] Downloading package averaged_perceptron_tagger to\n",
      "[nltk_data]     /root/nltk_data...\n",
      "[nltk_data]   Unzipping taggers/averaged_perceptron_tagger.zip.\n",
      "[nltk_data] Downloading package conll2000 to /root/nltk_data...\n",
      "[nltk_data]   Unzipping corpora/conll2000.zip.\n",
      "[nltk_data] Downloading package movie_reviews to /root/nltk_data...\n",
      "[nltk_data]   Unzipping corpora/movie_reviews.zip.\n",
      "Finished.\n"
     ]
    }
   ],
   "source": [
    "!pip install nltk textblob\n",
    "!python -m textblob.download_corpora"
   ]
  },
  {
   "cell_type": "code",
   "execution_count": 2,
   "metadata": {
    "colab": {
     "base_uri": "https://localhost:8080/"
    },
    "id": "MTCW2OmCzFKy",
    "outputId": "96a76233-d8df-4d22-89f5-43dd74771921"
   },
   "outputs": [
    {
     "name": "stdout",
     "output_type": "stream",
     "text": [
      "Article extraction completed.\n"
     ]
    }
   ],
   "source": [
    "import pandas as pd\n",
    "import requests\n",
    "from bs4 import BeautifulSoup\n",
    "\n",
    "# Read the input Excel file\n",
    "input_file = 'Input.xlsx'\n",
    "df = pd.read_excel(input_file)\n",
    "\n",
    "# Function to extract text from a URL\n",
    "def extract_article_text(url):\n",
    "    response = requests.get(url)\n",
    "    soup = BeautifulSoup(response.content, 'html.parser')\n",
    "\n",
    "    # Extract title and article text\n",
    "    title = soup.find('title').get_text() if soup.find('title') else ''\n",
    "    paragraphs = soup.find_all('p')\n",
    "    article_text = ' '.join([para.get_text() for para in paragraphs])\n",
    "\n",
    "    return title, article_text\n",
    "\n",
    "# Loop through the URLs and save the extracted text to files\n",
    "for index, row in df.iterrows():\n",
    "    url_id = row['URL_ID']\n",
    "    url = row['URL']\n",
    "    title, article_text = extract_article_text(url)\n",
    "\n",
    "    with open(f'{url_id}.txt', 'w', encoding='utf-8') as file:\n",
    "        file.write(f\"{title}\\n{article_text}\")\n",
    "\n",
    "print(\"Article extraction completed.\")\n"
   ]
  },
  {
   "cell_type": "code",
   "execution_count": 3,
   "metadata": {
    "colab": {
     "base_uri": "https://localhost:8080/"
    },
    "id": "seaq8MMu08sl",
    "outputId": "033d6cdc-2643-41ba-8322-861cbf2e5398"
   },
   "outputs": [
    {
     "name": "stderr",
     "output_type": "stream",
     "text": [
      "[nltk_data] Downloading package opinion_lexicon to /root/nltk_data...\n",
      "[nltk_data]   Unzipping corpora/opinion_lexicon.zip.\n"
     ]
    },
    {
     "data": {
      "text/plain": [
       "True"
      ]
     },
     "execution_count": 3,
     "metadata": {},
     "output_type": "execute_result"
    }
   ],
   "source": [
    "import nltk\n",
    "nltk.download('opinion_lexicon')"
   ]
  },
  {
   "cell_type": "code",
   "execution_count": 7,
   "metadata": {
    "colab": {
     "base_uri": "https://localhost:8080/"
    },
    "id": "w2O-c0ki1JJu",
    "outputId": "01bea129-85b8-410b-d397-0f060b5c6e50"
   },
   "outputs": [
    {
     "name": "stderr",
     "output_type": "stream",
     "text": [
      "[nltk_data] Downloading package punkt to /root/nltk_data...\n",
      "[nltk_data]   Package punkt is already up-to-date!\n",
      "[nltk_data] Downloading package stopwords to /root/nltk_data...\n",
      "[nltk_data]   Unzipping corpora/stopwords.zip.\n"
     ]
    }
   ],
   "source": [
    "nltk.download('punkt')\n",
    "nltk.download('stopwords')\n",
    "from nltk.corpus import opinion_lexicon, stopwords"
   ]
  },
  {
   "cell_type": "code",
   "execution_count": 8,
   "metadata": {
    "id": "ObNEK80o1XxI"
   },
   "outputs": [],
   "source": [
    "import pandas as pd\n",
    "import nltk\n",
    "from textblob import TextBlob\n",
    "import re"
   ]
  },
  {
   "cell_type": "code",
   "execution_count": 9,
   "metadata": {
    "id": "bVtto6rg1leN"
   },
   "outputs": [],
   "source": [
    "# Load stopwords and master dictionary\n",
    "stop_words = set(stopwords.words('english'))\n",
    "positive_words = set(opinion_lexicon.positive())\n",
    "negative_words = set(opinion_lexicon.negative())"
   ]
  },
  {
   "cell_type": "code",
   "execution_count": 10,
   "metadata": {
    "id": "WbV4Bi391sWO"
   },
   "outputs": [],
   "source": [
    "# Helper function to count syllables in a word\n",
    "def syllable_count(word):\n",
    "    word = word.lower()\n",
    "    vowels = \"aeiouy\"\n",
    "    syllables = 0\n",
    "    if word[0] in vowels:\n",
    "        syllables += 1\n",
    "    for index in range(1, len(word)):\n",
    "        if word[index] in vowels and word[index - 1] not in vowels:\n",
    "            syllables += 1\n",
    "    if word.endswith(\"e\"):\n",
    "        syllables -= 1\n",
    "    if syllables == 0:\n",
    "        syllables += 1\n",
    "    return syllables"
   ]
  },
  {
   "cell_type": "code",
   "execution_count": 11,
   "metadata": {
    "id": "Or8LSy2P2D84"
   },
   "outputs": [],
   "source": [
    "# Function to clean text and remove stop words\n",
    "def clean_text(text):\n",
    "    words = nltk.word_tokenize(text)\n",
    "    cleaned_words = [word for word in words if word.lower() not in stop_words and word.isalnum()]\n",
    "    return cleaned_words"
   ]
  },
  {
   "cell_type": "code",
   "execution_count": 12,
   "metadata": {
    "id": "d6SHFmok2I52"
   },
   "outputs": [],
   "source": [
    "# Function to compute the variables\n",
    "def compute_variables(text):\n",
    "    # Clean text and tokenize\n",
    "    cleaned_words = clean_text(text)\n",
    "    num_words = len(cleaned_words)\n",
    "\n",
    "    # Tokenize sentences\n",
    "    sentences = nltk.sent_tokenize(text)\n",
    "    num_sentences = len(sentences)\n",
    "\n",
    "    # Positive and Negative Scores\n",
    "    positive_score = sum(1 for word in cleaned_words if word in positive_words)\n",
    "    negative_score = sum(1 for word in cleaned_words if word in negative_words)\n",
    "\n",
    "    # Polarity and Subjectivity Scores\n",
    "    polarity_score = (positive_score - negative_score) / ((positive_score + negative_score) + 0.000001)\n",
    "    subjectivity_score = (positive_score + negative_score) / (num_words + 0.000001)\n",
    "\n",
    "    # Avg Sentence Length\n",
    "    avg_sentence_length = num_words / num_sentences if num_sentences > 0 else 0\n",
    "\n",
    "    # Percentage of Complex Words\n",
    "    complex_words = [word for word in cleaned_words if syllable_count(word) > 2]\n",
    "    percentage_complex_words = len(complex_words) / num_words if num_words > 0 else 0\n",
    "\n",
    "    # Fog Index\n",
    "    fog_index = 0.4 * (avg_sentence_length + percentage_complex_words)\n",
    "\n",
    "    # Avg Number of Words Per Sentence\n",
    "    avg_number_of_words_per_sentence = num_words / num_sentences if num_sentences > 0 else 0\n",
    "\n",
    "    # Complex Word Count\n",
    "    complex_word_count = len(complex_words)\n",
    "\n",
    "    # Syllables Per Word\n",
    "    syllables_per_word = sum(syllable_count(word) for word in cleaned_words) / num_words if num_words > 0 else 0\n",
    "\n",
    "    # Personal Pronouns\n",
    "    personal_pronouns = len(re.findall(r'\\b(I|we|my|ours|us)\\b', text, re.I))\n",
    "\n",
    "    # Avg Word Length\n",
    "    avg_word_length = sum(len(word) for word in cleaned_words) / num_words if num_words > 0 else 0\n",
    "\n",
    "    return {\n",
    "        'POSITIVE SCORE': positive_score,\n",
    "        'NEGATIVE SCORE': negative_score,\n",
    "        'POLARITY SCORE': polarity_score,\n",
    "        'SUBJECTIVITY SCORE': subjectivity_score,\n",
    "        'AVG SENTENCE LENGTH': avg_sentence_length,\n",
    "        'PERCENTAGE OF COMPLEX WORDS': percentage_complex_words,\n",
    "        'FOG INDEX': fog_index,\n",
    "        'AVG NUMBER OF WORDS PER SENTENCE': avg_number_of_words_per_sentence,\n",
    "        'COMPLEX WORD COUNT': complex_word_count,\n",
    "        'WORD COUNT': num_words,\n",
    "        'SYLLABLE PER WORD': syllables_per_word,\n",
    "        'PERSONAL PRONOUNS': personal_pronouns,\n",
    "        'AVG WORD LENGTH': avg_word_length\n",
    "    }"
   ]
  },
  {
   "cell_type": "code",
   "execution_count": 13,
   "metadata": {
    "id": "oaVR_OOz2Ufx"
   },
   "outputs": [],
   "source": [
    "# Initialize output DataFrame\n",
    "output_columns = [\n",
    "    'URL_ID', 'URL', 'POSITIVE SCORE', 'NEGATIVE SCORE', 'POLARITY SCORE', 'SUBJECTIVITY SCORE',\n",
    "    'AVG SENTENCE LENGTH', 'PERCENTAGE OF COMPLEX WORDS', 'FOG INDEX', 'AVG NUMBER OF WORDS PER SENTENCE',\n",
    "    'COMPLEX WORD COUNT', 'WORD COUNT', 'SYLLABLE PER WORD', 'PERSONAL PRONOUNS', 'AVG WORD LENGTH'\n",
    "]"
   ]
  },
  {
   "cell_type": "code",
   "execution_count": 14,
   "metadata": {
    "id": "-YdVhhxB2cc8"
   },
   "outputs": [],
   "source": [
    "output_df = pd.DataFrame(columns=output_columns)"
   ]
  },
  {
   "cell_type": "code",
   "execution_count": 16,
   "metadata": {
    "id": "zMQqSYi-2loF"
   },
   "outputs": [],
   "source": [
    "# Loop through the URLs and perform text analysis\n",
    "for index, row in df.iterrows():\n",
    "    url_id = row['URL_ID']\n",
    "    url = row['URL']\n",
    "\n",
    "    # Read the extracted article text\n",
    "    with open(f'{url_id}.txt', 'r', encoding='utf-8') as file:\n",
    "        text = file.read()\n",
    "\n",
    "    # Compute variables\n",
    "    variables = compute_variables(text)\n",
    "\n",
    "    # Append results to the output DataFrame\n",
    "    # Create a temporary DataFrame for the new row\n",
    "    new_row = pd.DataFrame({\n",
    "        'URL_ID': [url_id],\n",
    "        'URL': [url],\n",
    "        **variables\n",
    "    })\n",
    "\n",
    "    # Use concat to append the new row to the output DataFrame\n",
    "    output_df = pd.concat([output_df, new_row], ignore_index=True)"
   ]
  },
  {
   "cell_type": "code",
   "execution_count": 17,
   "metadata": {
    "colab": {
     "base_uri": "https://localhost:8080/"
    },
    "id": "d1oCRAVi2sSH",
    "outputId": "82be25a0-409a-4a29-f381-77b78e6d9757"
   },
   "outputs": [
    {
     "name": "stdout",
     "output_type": "stream",
     "text": [
      "Text analysis completed.\n"
     ]
    }
   ],
   "source": [
    "# Save the output DataFrame to an Excel file\n",
    "output_file = 'Output Data Structure.xlsx'\n",
    "output_df.to_excel(output_file, index=False)\n",
    "\n",
    "print(\"Text analysis completed.\")"
   ]
  }
 ],
 "metadata": {
  "colab": {
   "provenance": []
  },
  "kernelspec": {
   "display_name": "Python 3 (ipykernel)",
   "language": "python",
   "name": "python3"
  },
  "language_info": {
   "codemirror_mode": {
    "name": "ipython",
    "version": 3
   },
   "file_extension": ".py",
   "mimetype": "text/x-python",
   "name": "python",
   "nbconvert_exporter": "python",
   "pygments_lexer": "ipython3",
   "version": "3.11.5"
  }
 },
 "nbformat": 4,
 "nbformat_minor": 1
}
